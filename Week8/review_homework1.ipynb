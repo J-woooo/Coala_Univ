{
 "cells": [
  {
   "cell_type": "markdown",
   "metadata": {},
   "source": [
    "## review homework1"
   ]
  },
  {
   "cell_type": "code",
   "execution_count": 1,
   "metadata": {},
   "outputs": [],
   "source": [
    "import matplotlib.pyplot as plt"
   ]
  },
  {
   "cell_type": "code",
   "execution_count": 12,
   "metadata": {},
   "outputs": [
    {
     "name": "stdout",
     "output_type": "stream",
     "text": [
      "적립하려는 금액은?10000\n",
      "멤버십카드를 소지하였는가?ㅜ\n",
      "8000원을 충전합니다\n",
      "프로그램을 종료합니다...\n"
     ]
    }
   ],
   "source": [
    "a = 10000\n",
    "b = 40000\n",
    "c = 50000\n",
    "d = 700000\n",
    "d = input(\"적립하려는 금액은?\")\n",
    "mem = input(\"멤버십카드를 소지하였는가?\")\n",
    "if(mem == 'Y'):\n",
    "    print(d+\"원을 충전합니다\")\n",
    "    d = int(d)\n",
    "else:\n",
    "    d = int(d)-2000\n",
    "    print(str(d)+\"원을 충전합니다\")\n",
    "    print(\"프로그램을 종료합니다...\")"
   ]
  },
  {
   "cell_type": "code",
   "execution_count": 11,
   "metadata": {},
   "outputs": [
    {
     "data": {
      "image/png": "[encoded data removed]",
      "text/plain": [
       "<Figure size 432x288 with 1 Axes>"
      ]
     },
     "metadata": {
      "needs_background": "dark"
     },
     "output_type": "display_data"
    }
   ],
   "source": [
    "plt.bar('A',a, color='blue')\n",
    "plt.bar('B',b, color='blue')\n",
    "plt.bar('C',c, color='blue')\n",
    "plt.bar('D',d, color='blue')\n",
    "plt.title('charge',fontsize=14,color='white')\n",
    "plt.grid()\n",
    "plt.xticks(color='white',fontsize=14)\n",
    "plt.yticks(color='white',fontsize=14)\n",
    "\n",
    "plt.show()"
   ]
  },
  {
   "cell_type": "code",
   "execution_count": null,
   "metadata": {},
   "outputs": [],
   "source": []
  }
 ],
 "metadata": {
  "kernelspec": {
   "display_name": "Python 3",
   "language": "python",
   "name": "python3"
  },
  "language_info": {
   "codemirror_mode": {
    "name": "ipython",
    "version": 3
   },
   "file_extension": ".py",
   "mimetype": "text/x-python",
   "name": "python",
   "nbconvert_exporter": "python",
   "pygments_lexer": "ipython3",
   "version": "3.8.0"
  }
 },
 "nbformat": 4,
 "nbformat_minor": 4
}
