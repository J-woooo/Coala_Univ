{
 "cells": [
  {
   "cell_type": "markdown",
   "metadata": {},
   "source": [
    "## review homework3"
   ]
  },
  {
   "cell_type": "code",
   "execution_count": 1,
   "metadata": {},
   "outputs": [],
   "source": [
    "import matplotlib.pyplot as plt"
   ]
  },
  {
   "cell_type": "code",
   "execution_count": 2,
   "metadata": {},
   "outputs": [],
   "source": [
    "exchange_rate = 10\n",
    "money = 9870"
   ]
  },
  {
   "cell_type": "code",
   "execution_count": 3,
   "metadata": {},
   "outputs": [
    {
     "name": "stdout",
     "output_type": "stream",
     "text": [
      "987\n"
     ]
    }
   ],
   "source": [
    "money = int(money)/int(exchange_rate)\n",
    "money = int(money)\n",
    "print(money)"
   ]
  },
  {
   "cell_type": "code",
   "execution_count": 4,
   "metadata": {},
   "outputs": [
    {
     "name": "stdout",
     "output_type": "stream",
     "text": [
      "100 달러 짜리 >> 9 개\n",
      "50 달러 짜리 >> 1 개\n",
      "20 달러 짜리 >> 1 개\n",
      "10 달러 짜리 >> 1 개\n",
      "5 달러 짜리 >> 1 개\n",
      "2 달러 짜리 >> 1 개\n",
      "1 달러 짜리 >> 0 개\n",
      "[9, 1, 1, 1, 1, 1, 0]\n"
     ]
    }
   ],
   "source": [
    "dollar = [100,50,20,10,5,2,1]\n",
    "count=[]\n",
    "for d in dollar:\n",
    "    print(d,\"달러 짜리 >>\", money//d,\"개\")\n",
    "    count.append(money//d)\n",
    "    money %= d\n",
    "print(count)"
   ]
  },
  {
   "cell_type": "code",
   "execution_count": 5,
   "metadata": {},
   "outputs": [
    {
     "name": "stdout",
     "output_type": "stream",
     "text": [
      "[100, 50, 20, 10, 5, 2, 1]\n",
      "[9, 1, 1, 1, 1, 1, 0]\n"
     ]
    },
    {
     "data": {
      "image/png": "[encoded data removed]",
      "text/plain": [
       "<Figure size 432x288 with 1 Axes>"
      ]
     },
     "metadata": {
      "needs_background": "light"
     },
     "output_type": "display_data"
    }
   ],
   "source": [
    "print(dollar)\n",
    "print(count)\n",
    "\n",
    "plt.plot(dollar,count,color=\"red\")\n",
    "plt.grid()\n",
    "plt.show()"
   ]
  },
  {
   "cell_type": "code",
   "execution_count": null,
   "metadata": {},
   "outputs": [],
   "source": []
  }
 ],
 "metadata": {
  "kernelspec": {
   "display_name": "Python 3",
   "language": "python",
   "name": "python3"
  },
  "language_info": {
   "codemirror_mode": {
    "name": "ipython",
    "version": 3
   },
   "file_extension": ".py",
   "mimetype": "text/x-python",
   "name": "python",
   "nbconvert_exporter": "python",
   "pygments_lexer": "ipython3",
   "version": "3.8.0"
  }
 },
 "nbformat": 4,
 "nbformat_minor": 4
}
