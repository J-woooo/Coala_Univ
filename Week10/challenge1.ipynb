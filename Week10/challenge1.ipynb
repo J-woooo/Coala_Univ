{
 "cells": [
  {
   "cell_type": "markdown",
   "metadata": {},
   "source": [
    "## 이차함수 형태의 선형회귀식 찾기"
   ]
  },
  {
   "cell_type": "code",
   "execution_count": 1,
   "metadata": {},
   "outputs": [],
   "source": [
    "data = [(1,5),(1.5,4),(2,3),\n",
    "       (3,1),(3,2),(4,1),\n",
    "       (5,1.5),(6,2),(6,4),\n",
    "       (7,4),(7,5)]\n",
    "\n",
    "# y = ax^2 + bx + c"
   ]
  },
  {
   "cell_type": "code",
   "execution_count": 4,
   "metadata": {},
   "outputs": [
    {
     "name": "stdout",
     "output_type": "stream",
     "text": [
      "44.7925\n",
      "1 -8.200000000000038 15.399999999999885\n"
     ]
    }
   ],
   "source": [
    "import numpy as np\n",
    "\n",
    "errorRate = 0\n",
    "minErrorRate = 65536\n",
    "a = 1\n",
    "b = 0.1\n",
    "c = 0.1\n",
    "resultA = 0\n",
    "resultB = 0\n",
    "resultC = 0\n",
    "for b in np.arange(-50,50,0.1):\n",
    "    for c in np.arange(-50,50,0.1):\n",
    "        for (x,y) in data:\n",
    "            predict = a*(x**2) + b*x + c\n",
    "            errorRate += ((y - predict) ** 2)\n",
    "        if(minErrorRate > errorRate): \n",
    "            minErrorRate = errorRate\n",
    "            resultA = a\n",
    "            resultB = b\n",
    "            resultC = c\n",
    "        errorRate = 0\n",
    "print(round(minErrorRate,4))\n",
    "print(resultA, resultB, resultC)"
   ]
  },
  {
   "cell_type": "code",
   "execution_count": null,
   "metadata": {},
   "outputs": [],
   "source": []
  }
 ],
 "metadata": {
  "kernelspec": {
   "display_name": "Python 3",
   "language": "python",
   "name": "python3"
  },
  "language_info": {
   "codemirror_mode": {
    "name": "ipython",
    "version": 3
   },
   "file_extension": ".py",
   "mimetype": "text/x-python",
   "name": "python",
   "nbconvert_exporter": "python",
   "pygments_lexer": "ipython3",
   "version": "3.8.0"
  }
 },
 "nbformat": 4,
 "nbformat_minor": 4
}
