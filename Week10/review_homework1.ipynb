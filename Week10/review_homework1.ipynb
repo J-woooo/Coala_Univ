{
 "cells": [
  {
   "cell_type": "markdown",
   "metadata": {},
   "source": [
    "## 선형회귀식에서 최소 오차식 찾기"
   ]
  },
  {
   "cell_type": "code",
   "execution_count": 1,
   "metadata": {},
   "outputs": [],
   "source": [
    "data = [(1,5),(1.5,4),(2,3),\n",
    "       (3,1),(3,2),(4,1),\n",
    "       (5,1.5),(6,2),(6,4),\n",
    "       (7,4),(7,5)]\n",
    "\n",
    "# y = ax + b\n",
    "# y = ax^2 + bx + c"
   ]
  },
  {
   "cell_type": "markdown",
   "metadata": {},
   "source": [
    "### 다음 데이터에서 오차를 최소로 하는 a, b, c를 찾기 (1차함수, 2차함수)\n",
    "##### 주아진 좌표 데이터를 그래프로 가시화해서 확인한 뒤에 오차를 최소한으로 하기 위한 1차함수와 2차함수를 찾아보고 평균 오차율을 구하세요. (평균 오차율: Σ(정답 - 예측값)^2  / 데이터의 개수)  실습이 끝나고 서로 정답 공유"
   ]
  },
  {
   "cell_type": "code",
   "execution_count": 19,
   "metadata": {},
   "outputs": [
    {
     "name": "stdout",
     "output_type": "stream",
     "text": [
      "2.1136\n",
      "0.0000000000003\n",
      "3.0000\n"
     ]
    }
   ],
   "source": [
    "import numpy as np\n",
    "\n",
    "errorRate = 0\n",
    "minErrorRate = 65536\n",
    "a = 0.1\n",
    "b = 0.1\n",
    "resultA = 0\n",
    "resultB = 0\n",
    "for a in np.arange(-20,20,0.1):\n",
    "    for b in np.arange(-20,20,0.1):\n",
    "        for (x,y) in data:\n",
    "            predict = a*x + b\n",
    "            errorRate += ((y - predict) ** 2)\n",
    "        if(minErrorRate > errorRate):\n",
    "#             print(\"갱신 \",minErrorRate,\" -> \",errorRate, \"a = \",a,\" b = \",b)\n",
    "            minErrorRate = errorRate\n",
    "            resultA = a\n",
    "            resultB = b\n",
    "        errorRate = 0\n",
    "# print(round(minErrorRate,4) / len(data))\n",
    "minErrorRate /= len(data)\n",
    "print(\"%0.4f\" % minErrorRate)\n",
    "print(\"%0.13f\" % resultA)\n",
    "print(\"%0.4f\" % resultB)\n"
   ]
  },
  {
   "cell_type": "code",
   "execution_count": 54,
   "metadata": {},
   "outputs": [
    {
     "name": "stdout",
     "output_type": "stream",
     "text": [
      "4.072045454545454\n",
      "1\n",
      "-8.2\n",
      "15.4\n"
     ]
    }
   ],
   "source": [
    "import numpy as np\n",
    "\n",
    "errorRate = 0\n",
    "minErrorRate = 65536\n",
    "a = 1\n",
    "b = 0.1\n",
    "c = 0.1\n",
    "resultA = 0\n",
    "resultB = 0\n",
    "resultC = 0\n",
    "for b in np.arange(-50,50,0.1):\n",
    "    for c in np.arange(-50,50,0.1):\n",
    "        for (x,y) in data:\n",
    "            predict = a*(x**2) + b*x + c\n",
    "            errorRate += ((y - predict) ** 2)\n",
    "        if(minErrorRate > errorRate): \n",
    "            minErrorRate = errorRate\n",
    "            resultA = a\n",
    "            resultB = b\n",
    "            resultC = c\n",
    "        errorRate = 0\n",
    "print(round(minErrorRate,4) / len(data))\n",
    "print(round(resultA,4))\n",
    "print(round(resultB,4))\n",
    "print(round(resultC,4))"
   ]
  },
  {
   "cell_type": "code",
   "execution_count": 49,
   "metadata": {},
   "outputs": [
    {
     "data": {
      "image/png": "[encoded data removed]",
      "text/plain": [
       "<Figure size 432x288 with 1 Axes>"
      ]
     },
     "metadata": {
      "needs_background": "light"
     },
     "output_type": "display_data"
    }
   ],
   "source": [
    "import matplotlib.pyplot as plt\n",
    "import numpy as np\n",
    "# plt.plot([1, 1.5, 2, 3, 4, 4.3, 5, 6, 7, 8.5, 9, 9.1, 10, 11, 11.5, 12, 13, 14],\n",
    "#          [10, 8, 8.2, 7, 7, 6, 5.5, 4.6, 4, 4, 4, 5, 5, 7, 8, 8, 10, 9])\n",
    "plt.plot([1, 1.5, 2, 3, 3, 4, 5, 6, 6, 7, 7],\n",
    "         [5, 4, 3, 1, 2, 1, 1.5, 2, 4, 4, 5])\n",
    "plt.show()\n",
    "# data = [(1,5),(1.5,4),(2,3),\n",
    "#        (3,1),(3,2),(4,1),\n",
    "#        (5,1.5),(6,2),(6,4),\n",
    "#        (7,4),(7,5)]"
   ]
  }
 ],
 "metadata": {
  "kernelspec": {
   "display_name": "Python 3",
   "language": "python",
   "name": "python3"
  },
  "language_info": {
   "codemirror_mode": {
    "name": "ipython",
    "version": 3
   },
   "file_extension": ".py",
   "mimetype": "text/x-python",
   "name": "python",
   "nbconvert_exporter": "python",
   "pygments_lexer": "ipython3",
   "version": "3.8.0"
  }
 },
 "nbformat": 4,
 "nbformat_minor": 4
}
